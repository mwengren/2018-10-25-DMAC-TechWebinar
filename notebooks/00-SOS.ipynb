{
 "cells": [
  {
   "cell_type": "markdown",
   "metadata": {},
   "source": [
    "- pandas `DataFrame` and reading `CSV` from `SOS` URLs\n",
    "- interactive plots (`hvplot`)\n",
    "- interactive maps (`folium`)"
   ]
  },
  {
   "cell_type": "code",
   "execution_count": null,
   "metadata": {},
   "outputs": [],
   "source": [
    "import os\n",
    "\n",
    "import geopandas\n",
    "\n",
    "import pandas as pd\n",
    "\n",
    "\n",
    "\n",
    "def load_best_track(code='al14', year='2018'):\n",
    "    fname = f'{code}{year}_best_track.zip'\n",
    "    url = f'https://www.nhc.noaa.gov/gis/best_track/{fname}'\n",
    "\n",
    "    if not os.path.isfile(fname):\n",
    "        import wget\n",
    "        fname = wget.download(url)\n",
    "\n",
    "    os.environ['CPL_ZIP_ENCODING'] = 'UTF-8'\n",
    "\n",
    "    radii = geopandas.read_file(\n",
    "        f'/{code.upper()}{year}_radii.shp',\n",
    "        vfs='zip://{}'.format(fname)\n",
    "    )\n",
    "\n",
    "    pts = geopandas.read_file(\n",
    "        f'/{code.upper()}{year}_pts.shp',\n",
    "        vfs='zip://{}'.format(fname)\n",
    "    )\n",
    "    radii.index = pd.to_datetime(radii['SYNOPTIME'], format='%Y%m%d%H', errors='coerce').values\n",
    "    return radii, pts\n",
    "\n",
    "radii, pts = load_best_track(code='al14', year='2018')\n",
    "\n",
    "bbox = radii['geometry'].total_bounds"
   ]
  },
  {
   "cell_type": "code",
   "execution_count": null,
   "metadata": {
    "slideshow": {
     "slide_type": "slide"
    }
   },
   "outputs": [],
   "source": [
    "from datetime import datetime\n",
    "\n",
    "\n",
    "start = datetime(2018, 10, 7)\n",
    "end = datetime(2018, 10, 16)\n",
    "\n",
    "variable = 'water_surface_height_above_reference_datum'\n",
    "\n",
    "buoy = '8728690'\n",
    "\n",
    "url = (\n",
    "    'https://opendap.co-ops.nos.noaa.gov/ioos-dif-sos/SOS?'\n",
    "    'service=SOS'\n",
    "    '&request=GetObservation'\n",
    "    '&version=1.0.0'\n",
    "    f'&observedProperty={variable}'\n",
    "    f'&offering=urn:ioos:station:NOAA.NOS.CO-OPS:{buoy}'\n",
    "    '&responseFormat=text/csv'\n",
    "    f'&eventTime={start:%Y-%m-%dT%H:%M:%SZ}/'\n",
    "    f'{end:%Y-%m-%dT%H:%M:%SZ}'\n",
    "    '&result=VerticalDatum==urn:ogc:def:datum:epsg::5103'\n",
    "    '&dataType=PreliminarySixMinute'\n",
    ")"
   ]
  },
  {
   "cell_type": "code",
   "execution_count": null,
   "metadata": {
    "slideshow": {
     "slide_type": "slide"
    }
   },
   "outputs": [],
   "source": [
    "print(url)"
   ]
  },
  {
   "cell_type": "code",
   "execution_count": null,
   "metadata": {
    "slideshow": {
     "slide_type": "slide"
    }
   },
   "outputs": [],
   "source": [
    "import pandas as pd\n",
    "\n",
    "\n",
    "df = pd.read_csv(\n",
    "    url,\n",
    "    index_col='date_time',\n",
    "    parse_dates=True\n",
    ")\n",
    "\n",
    "df.head()"
   ]
  },
  {
   "cell_type": "code",
   "execution_count": null,
   "metadata": {
    "slideshow": {
     "slide_type": "slide"
    }
   },
   "outputs": [],
   "source": [
    "def extract_metadata(col):\n",
    "    value = col.unique()\n",
    "    if len(value) > 1:\n",
    "        raise ValueError(\n",
    "            f'Expected a single value but got {len(value)}'\n",
    "        )\n",
    "    return value.squeeze().tolist()"
   ]
  },
  {
   "cell_type": "code",
   "execution_count": null,
   "metadata": {},
   "outputs": [],
   "source": [
    "col = df.columns[df.columns.str.startswith(variable)]\n",
    "\n",
    "idxmax = df[col].idxmax().squeeze()\n",
    "dedup = radii.loc[~radii.index.duplicated(keep='first')]\n",
    "overlap = dedup.iloc[dedup.index.get_loc(idxmax, method='nearest')]"
   ]
  },
  {
   "cell_type": "code",
   "execution_count": null,
   "metadata": {
    "slideshow": {
     "slide_type": "slide"
    }
   },
   "outputs": [],
   "source": [
    "import folium\n",
    "\n",
    "\n",
    "sensor_id = extract_metadata(df['sensor_id'])\n",
    "\n",
    "location = (\n",
    "    extract_metadata(df['latitude (degree)']),\n",
    "    extract_metadata(df['longitude (degree)'])\n",
    ")\n",
    "\n",
    "\n",
    "m = folium.Map(location=location, zoom_start=5)\n",
    "folium.Marker(location=location, popup=sensor_id).add_to(m)\n",
    "\n",
    "for geom in radii['geometry']:\n",
    "    folium.GeoJson(geom.__geo_interface__).add_to(m)\n",
    "\n",
    "\n",
    "style_function = lambda feature: {\n",
    "    'fillColor': '#FF5733',\n",
    "    'opacity': '0.15'\n",
    "}\n",
    "\n",
    "folium.GeoJson(overlap['geometry'].__geo_interface__, style_function=style_function).add_to(m)\n",
    "m"
   ]
  },
  {
   "cell_type": "code",
   "execution_count": null,
   "metadata": {
    "slideshow": {
     "slide_type": "slide"
    }
   },
   "outputs": [],
   "source": [
    "import hvplot.pandas\n",
    "\n",
    "\n",
    "df[col].hvplot.line(\n",
    "    figsize=(9, 2.75),\n",
    "    legend=False,\n",
    "    grid=True,\n",
    "    title=sensor_id,\n",
    ")"
   ]
  },
  {
   "cell_type": "markdown",
   "metadata": {},
   "source": [
    "IOOS maintains a Python library for collecting Met/Ocean observations named `pyoos` that aims the make it easier to access data from services like:\n",
    "\n",
    "-  IOOS SWE SOS 1.0 Services\n",
    "-  NERRS Observations - SOAP\n",
    "-  NDBC Observations - SOS\n",
    "-  CO-OPS Observations - SOS\n",
    "-  STORET Water Quality - WqxOutbound via REST (waterqualitydata.us)\n",
    "-  USGS NWIS Water Quality - WqxOutbound via REST (waterqualitydata.us)\n",
    "-  USGS Instantaneous Values - WaterML via REST\n",
    "-  NWS AWC Observations - XML via REST (http://www.aviationweather.gov)\n",
    "-  HADS (http://www.nws.noaa.gov/oh/hads/ - limited to 7 day rolling\n",
    "   window of data)\n",
    "\n",
    "More information on https://github.com/ioos/pyoos"
   ]
  }
 ],
 "metadata": {
  "celltoolbar": "Slideshow",
  "kernelspec": {
   "display_name": "Python 3",
   "language": "python",
   "name": "python3"
  },
  "language_info": {
   "codemirror_mode": {
    "name": "ipython",
    "version": 3
   },
   "file_extension": ".py",
   "mimetype": "text/x-python",
   "name": "python",
   "nbconvert_exporter": "python",
   "pygments_lexer": "ipython3",
   "version": "3.6.5"
  },
  "livereveal": {
   "auto_select": "none",
   "footer": " ",
   "header": "<script src='static/theme/reveal.js'></script>",
   "start_slideshow_at": "selected"
  }
 },
 "nbformat": 4,
 "nbformat_minor": 2
}
